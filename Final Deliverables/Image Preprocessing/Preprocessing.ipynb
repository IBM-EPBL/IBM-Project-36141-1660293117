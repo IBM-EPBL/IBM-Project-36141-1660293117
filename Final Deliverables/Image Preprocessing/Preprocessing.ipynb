{
 "cells": [
  {
   "cell_type": "code",
   "execution_count": 2,
   "id": "659f810b",
   "metadata": {},
   "outputs": [],
   "source": [
    "from keras.preprocessing.image import ImageDataGenerator"
   ]
  },
  {
   "cell_type": "code",
   "execution_count": 5,
   "id": "e50aac90",
   "metadata": {},
   "outputs": [],
   "source": [
    "train_datagen = ImageDataGenerator(rescale = 1./255,shear_range = 0.2,horizontal_flip= True)\n",
    "test_datagen = ImageDataGenerator(rescale=1./255)"
   ]
  },
  {
   "cell_type": "code",
   "execution_count": 9,
   "id": "2e06d91b",
   "metadata": {},
   "outputs": [
    {
     "name": "stdout",
     "output_type": "stream",
     "text": [
      "Found 2626 images belonging to 5 classes.\n",
      "Found 1055 images belonging to 5 classes.\n"
     ]
    }
   ],
   "source": [
    "x_train = train_datagen.flow_from_directory(r'E:\\Naalaiya Thiran project\\IBM-Project-36141-1660293117\\Final Deliverables\\Data Collection\\TRAIN_SET',\n",
    "target_size=(64,64), batch_size=5, color_mode= \"rgb\", class_mode= \"sparse\"\n",
    ")\n",
    "x_test = test_datagen.flow_from_directory(\n",
    "r'E:\\Naalaiya Thiran project\\IBM-Project-36141-1660293117\\Final Deliverables\\Data Collection\\TEST_SET',\n",
    "target_size=(64, 64), batch_size=5, color_mode=\"rgb\", class_mode= \"sparse\")\n"
   ]
  },
  {
   "cell_type": "code",
   "execution_count": null,
   "id": "f32ea66c",
   "metadata": {},
   "outputs": [],
   "source": []
  }
 ],
 "metadata": {
  "kernelspec": {
   "display_name": "Python 3 (ipykernel)",
   "language": "python",
   "name": "python3"
  },
  "language_info": {
   "codemirror_mode": {
    "name": "ipython",
    "version": 3
   },
   "file_extension": ".py",
   "mimetype": "text/x-python",
   "name": "python",
   "nbconvert_exporter": "python",
   "pygments_lexer": "ipython3",
   "version": "3.9.7"
  }
 },
 "nbformat": 4,
 "nbformat_minor": 5
}
