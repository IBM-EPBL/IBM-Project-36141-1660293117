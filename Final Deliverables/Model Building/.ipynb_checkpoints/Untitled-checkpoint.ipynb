{
 "cells": [
  {
   "cell_type": "code",
   "execution_count": 1,
   "id": "f8591c96",
   "metadata": {},
   "outputs": [],
   "source": [
    "from keras.preprocessing.image import ImageDataGenerator"
   ]
  },
  {
   "cell_type": "code",
   "execution_count": 2,
   "id": "56916d2b",
   "metadata": {},
   "outputs": [],
   "source": [
    "train_datagen = ImageDataGenerator(rescale=1./255,shear_range=0.2,zoom_range=0.2,horizontal_flip=True)\n",
    "test_datagen=ImageDataGenerator(rescale=1./255)"
   ]
  },
  {
   "cell_type": "code",
   "execution_count": 3,
   "id": "6f11fd6b",
   "metadata": {},
   "outputs": [
    {
     "name": "stdout",
     "output_type": "stream",
     "text": [
      "Found 4118 images belonging to 5 classes.\n",
      "Found 974 images belonging to 5 classes.\n"
     ]
    }
   ],
   "source": [
    "x_train = train_datagen.flow_from_directory(\n",
    "    r'E:\\Naalaiya Thiran project\\IBM-Project-36141-1660293117\\Final Deliverables\\Data Collection\\TRAIN_SET',\n",
    "    target_size=(64, 64),batch_size=5,color_mode='rgb',class_mode='sparse')\n",
    "#Applying Image DataGenerator Functionality To Testset\n",
    "x_test = test_datagen.flow_from_directory(\n",
    "    r'E:\\Naalaiya Thiran project\\IBM-Project-36141-1660293117\\Final Deliverables\\Data Collection\\TEST_SET',\n",
    "    target_size=(64, 64),batch_size=5,color_mode='rgb',class_mode='sparse')"
   ]
  },
  {
   "cell_type": "code",
   "execution_count": 4,
   "id": "421542ec",
   "metadata": {},
   "outputs": [
    {
     "name": "stdout",
     "output_type": "stream",
     "text": [
      "{'APPLES': 0, 'BANANA': 1, 'ORANGE': 2, 'PINEAPPLE': 3, 'WATERMELON': 4}\n"
     ]
    }
   ],
   "source": [
    "print(x_train.class_indices)"
   ]
  },
  {
   "cell_type": "code",
   "execution_count": 5,
   "id": "5bd71364",
   "metadata": {},
   "outputs": [
    {
     "name": "stdout",
     "output_type": "stream",
     "text": [
      "{'APPLES': 0, 'BANANA': 1, 'ORANGE': 2, 'PINEAPPLE': 3, 'WATERMELON': 4}\n"
     ]
    }
   ],
   "source": [
    "print(x_test.class_indices)"
   ]
  },
  {
   "cell_type": "code",
   "execution_count": 6,
   "id": "65f23bcb",
   "metadata": {},
   "outputs": [
    {
     "data": {
      "text/plain": [
       "Counter({0: 995, 1: 1354, 2: 1019, 3: 275, 4: 475})"
      ]
     },
     "execution_count": 6,
     "metadata": {},
     "output_type": "execute_result"
    }
   ],
   "source": [
    "\n",
    "\n",
    "from collections import Counter as c\n",
    "c(x_train .labels)\n",
    "\n"
   ]
  },
  {
   "cell_type": "code",
   "execution_count": 7,
   "id": "e68f90ae",
   "metadata": {},
   "outputs": [],
   "source": [
    "import numpy as np\n",
    "import tensorflow as tf\n",
    "from tensorflow.keras.models import Sequential \n",
    "from tensorflow.keras import layers\n",
    "from tensorflow.keras.layers import Dense,Flatten\n",
    "from tensorflow.keras.layers import Conv2D,MaxPooling2D,Dropout"
   ]
  },
  {
   "cell_type": "code",
   "execution_count": 8,
   "id": "40ddbecc",
   "metadata": {},
   "outputs": [],
   "source": [
    "model = Sequential()"
   ]
  },
  {
   "cell_type": "code",
   "execution_count": 9,
   "id": "57766eb5",
   "metadata": {},
   "outputs": [],
   "source": [
    "classifier = Sequential()\n",
    "classifier.add(Conv2D(32, (3, 3), input_shape=(64, 64, 3), activation='relu'))\n",
    "classifier.add(MaxPooling2D(pool_size=(2, 2)))\n",
    "classifier.add(Conv2D(32, (3, 3), activation='relu'))\n",
    "classifier.add(MaxPooling2D(pool_size=(2, 2)))\n",
    "classifier.add(Flatten())"
   ]
  },
  {
   "cell_type": "code",
   "execution_count": 10,
   "id": "ae9ca75f",
   "metadata": {},
   "outputs": [],
   "source": [
    "classifier.add(Dense(units=128, activation='relu'))\n",
    "classifier.add(Dense(units=5, activation='softmax'))"
   ]
  },
  {
   "cell_type": "code",
   "execution_count": 11,
   "id": "29b3732c",
   "metadata": {},
   "outputs": [
    {
     "name": "stdout",
     "output_type": "stream",
     "text": [
      "Model: \"sequential_1\"\n",
      "_________________________________________________________________\n",
      " Layer (type)                Output Shape              Param #   \n",
      "=================================================================\n",
      " conv2d (Conv2D)             (None, 62, 62, 32)        896       \n",
      "                                                                 \n",
      " max_pooling2d (MaxPooling2D  (None, 31, 31, 32)       0         \n",
      " )                                                               \n",
      "                                                                 \n",
      " conv2d_1 (Conv2D)           (None, 29, 29, 32)        9248      \n",
      "                                                                 \n",
      " max_pooling2d_1 (MaxPooling  (None, 14, 14, 32)       0         \n",
      " 2D)                                                             \n",
      "                                                                 \n",
      " flatten (Flatten)           (None, 6272)              0         \n",
      "                                                                 \n",
      " dense (Dense)               (None, 128)               802944    \n",
      "                                                                 \n",
      " dense_1 (Dense)             (None, 5)                 645       \n",
      "                                                                 \n",
      "=================================================================\n",
      "Total params: 813,733\n",
      "Trainable params: 813,733\n",
      "Non-trainable params: 0\n",
      "_________________________________________________________________\n"
     ]
    }
   ],
   "source": [
    "classifier.summary()"
   ]
  },
  {
   "cell_type": "code",
   "execution_count": 12,
   "id": "8a1557a9",
   "metadata": {},
   "outputs": [],
   "source": [
    "classifier.compile(optimizer='adam', loss='sparse_categorical_crossentropy', metrics=['accuracy'])"
   ]
  },
  {
   "cell_type": "code",
   "execution_count": 13,
   "id": "285577d9",
   "metadata": {},
   "outputs": [
    {
     "name": "stdout",
     "output_type": "stream",
     "text": [
      "Epoch 1/20\n"
     ]
    },
    {
     "name": "stderr",
     "output_type": "stream",
     "text": [
      "C:\\Users\\abish\\AppData\\Local\\Temp/ipykernel_27368/4293874847.py:1: UserWarning: `Model.fit_generator` is deprecated and will be removed in a future version. Please use `Model.fit`, which supports generators.\n",
      "  classifier.fit_generator(generator=x_train,steps_per_epoch = len(x_train),epochs=20, validation_data=x_test,validation_steps = len(x_test))\n"
     ]
    },
    {
     "name": "stdout",
     "output_type": "stream",
     "text": [
      "824/824 [==============================] - 20s 23ms/step - loss: 0.6361 - accuracy: 0.7562 - val_loss: 0.9491 - val_accuracy: 0.7023\n",
      "Epoch 2/20\n",
      "824/824 [==============================] - 17s 20ms/step - loss: 0.4336 - accuracy: 0.8392 - val_loss: 0.8953 - val_accuracy: 0.8018\n",
      "Epoch 3/20\n",
      "824/824 [==============================] - 17s 21ms/step - loss: 0.3749 - accuracy: 0.8630 - val_loss: 0.9148 - val_accuracy: 0.7577\n",
      "Epoch 4/20\n",
      "824/824 [==============================] - 17s 21ms/step - loss: 0.3498 - accuracy: 0.8655 - val_loss: 1.0259 - val_accuracy: 0.7875\n",
      "Epoch 5/20\n",
      "824/824 [==============================] - 20s 24ms/step - loss: 0.3260 - accuracy: 0.8711 - val_loss: 0.8699 - val_accuracy: 0.7669\n",
      "Epoch 6/20\n",
      "824/824 [==============================] - 19s 23ms/step - loss: 0.3168 - accuracy: 0.8810 - val_loss: 0.9006 - val_accuracy: 0.7844\n",
      "Epoch 7/20\n",
      "824/824 [==============================] - 21s 26ms/step - loss: 0.2954 - accuracy: 0.8919 - val_loss: 1.5002 - val_accuracy: 0.7854\n",
      "Epoch 8/20\n",
      "824/824 [==============================] - 21s 25ms/step - loss: 0.2974 - accuracy: 0.8907 - val_loss: 0.8205 - val_accuracy: 0.8183\n",
      "Epoch 9/20\n",
      "824/824 [==============================] - 22s 26ms/step - loss: 0.2584 - accuracy: 0.8980 - val_loss: 1.1090 - val_accuracy: 0.7577\n",
      "Epoch 10/20\n",
      "824/824 [==============================] - 20s 25ms/step - loss: 0.2451 - accuracy: 0.9119 - val_loss: 1.3692 - val_accuracy: 0.8214\n",
      "Epoch 11/20\n",
      "824/824 [==============================] - 19s 23ms/step - loss: 0.2418 - accuracy: 0.9082 - val_loss: 1.1461 - val_accuracy: 0.8101\n",
      "Epoch 12/20\n",
      "824/824 [==============================] - 19s 23ms/step - loss: 0.2199 - accuracy: 0.9148 - val_loss: 1.2656 - val_accuracy: 0.8070\n",
      "Epoch 13/20\n",
      "824/824 [==============================] - 19s 23ms/step - loss: 0.1972 - accuracy: 0.9240 - val_loss: 1.2815 - val_accuracy: 0.7823\n",
      "Epoch 14/20\n",
      "824/824 [==============================] - 19s 23ms/step - loss: 0.1992 - accuracy: 0.9262 - val_loss: 1.2805 - val_accuracy: 0.8357\n",
      "Epoch 15/20\n",
      "824/824 [==============================] - 19s 23ms/step - loss: 0.2001 - accuracy: 0.9240 - val_loss: 1.1978 - val_accuracy: 0.8316\n",
      "Epoch 16/20\n",
      "824/824 [==============================] - 19s 23ms/step - loss: 0.1740 - accuracy: 0.9369 - val_loss: 1.0683 - val_accuracy: 0.7977\n",
      "Epoch 17/20\n",
      "824/824 [==============================] - 19s 23ms/step - loss: 0.1731 - accuracy: 0.9339 - val_loss: 1.1404 - val_accuracy: 0.8285\n",
      "Epoch 18/20\n",
      "824/824 [==============================] - 19s 23ms/step - loss: 0.1490 - accuracy: 0.9463 - val_loss: 1.1137 - val_accuracy: 0.8552\n",
      "Epoch 19/20\n",
      "824/824 [==============================] - 19s 23ms/step - loss: 0.1525 - accuracy: 0.9483 - val_loss: 1.3554 - val_accuracy: 0.8398\n",
      "Epoch 20/20\n",
      "824/824 [==============================] - 19s 23ms/step - loss: 0.1472 - accuracy: 0.9468 - val_loss: 1.2154 - val_accuracy: 0.8563\n"
     ]
    },
    {
     "data": {
      "text/plain": [
       "<keras.callbacks.History at 0x1b8dd79ed00>"
      ]
     },
     "execution_count": 13,
     "metadata": {},
     "output_type": "execute_result"
    }
   ],
   "source": [
    "classifier.fit_generator(generator=x_train,steps_per_epoch = len(x_train),epochs=20, validation_data=x_test,validation_steps = len(x_test))"
   ]
  },
  {
   "cell_type": "code",
   "execution_count": 14,
   "id": "adf948cb",
   "metadata": {},
   "outputs": [],
   "source": [
    "\n",
    "\n",
    "classifier.save('nutrition.h5')\n",
    "\n"
   ]
  },
  {
   "cell_type": "code",
   "execution_count": 24,
   "id": "a828d0e6",
   "metadata": {},
   "outputs": [],
   "source": [
    "from tensorflow.keras.models import load_model\n",
    "from keras.preprocessing.image import ImageDataGenerator\n",
    "from keras.preprocessing import image\n",
    "model = load_model(\"nutrition.h5\")"
   ]
  },
  {
   "cell_type": "code",
   "execution_count": 30,
   "id": "3cad3f7c",
   "metadata": {},
   "outputs": [
    {
     "name": "stdout",
     "output_type": "stream",
     "text": [
      "1/1 [==============================] - 0s 19ms/step\n"
     ]
    },
    {
     "data": {
      "text/plain": [
       "array([2], dtype=int64)"
      ]
     },
     "execution_count": 30,
     "metadata": {},
     "output_type": "execute_result"
    }
   ],
   "source": [
    "import keras\n",
    "from tensorflow.keras.utils import img_to_array\n",
    "from keras.preprocessing.image import ImageDataGenerator\n",
    "from keras_preprocessing.image import load_img\n",
    "#loading of the image\n",
    "img = load_img(r'C:\\Users\\abish\\Downloads\\TESTIMAGE2.jpg',grayscale=False,target_size= (64,64))\n",
    "#image to array\n",
    "x = img_to_array(img)\n",
    "#changing the shape\n",
    "x = np.expand_dims(x,axis = 0)\n",
    "predict_x=model.predict(x) \n",
    "classes_x=np.argmax(predict_x,axis=-1)\n",
    "classes_x"
   ]
  },
  {
   "cell_type": "code",
   "execution_count": 31,
   "id": "0e6bad1f",
   "metadata": {},
   "outputs": [
    {
     "data": {
      "text/plain": [
       "'ORANGE'"
      ]
     },
     "execution_count": 31,
     "metadata": {},
     "output_type": "execute_result"
    }
   ],
   "source": [
    "index=['APPLES', 'BANANA', 'ORANGE','PINEAPPLE','WATERMELON']\n",
    "result=str(index[classes_x[0]])\n",
    "result"
   ]
  },
  {
   "cell_type": "code",
   "execution_count": null,
   "id": "dc20a679",
   "metadata": {},
   "outputs": [],
   "source": []
  }
 ],
 "metadata": {
  "kernelspec": {
   "display_name": "Python 3 (ipykernel)",
   "language": "python",
   "name": "python3"
  },
  "language_info": {
   "codemirror_mode": {
    "name": "ipython",
    "version": 3
   },
   "file_extension": ".py",
   "mimetype": "text/x-python",
   "name": "python",
   "nbconvert_exporter": "python",
   "pygments_lexer": "ipython3",
   "version": "3.9.7"
  }
 },
 "nbformat": 4,
 "nbformat_minor": 5
}
